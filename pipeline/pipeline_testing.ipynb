{
 "cells": [
  {
   "cell_type": "code",
   "execution_count": 1,
   "metadata": {
    "collapsed": false
   },
   "outputs": [
    {
     "name": "stderr",
     "output_type": "stream",
     "text": [
      "/Users/aldengolab/miniconda3/envs/amlpp/lib/python3.6/site-packages/sklearn/cross_validation.py:44: DeprecationWarning: This module was deprecated in version 0.18 in favor of the model_selection module into which all the refactored classes and functions are moved. Also note that the interface of the new CV iterators are different from that of this module. This module will be removed in 0.20.\n",
      "  \"This module will be removed in 0.20.\", DeprecationWarning)\n",
      "/Users/aldengolab/miniconda3/envs/amlpp/lib/python3.6/site-packages/sklearn/grid_search.py:43: DeprecationWarning: This module was deprecated in version 0.18 in favor of the model_selection module into which all the refactored classes and functions are moved. This module will be removed in 0.20.\n",
      "  DeprecationWarning)\n"
     ]
    }
   ],
   "source": [
    "import numpy as np\n",
    "import pandas as pd\n",
    "from gen_features import FeatureGenerator\n",
    "from model_loop import ModelLoop\n",
    "from sklearn.model_selection import train_test_split"
   ]
  },
  {
   "cell_type": "code",
   "execution_count": 2,
   "metadata": {
    "collapsed": false
   },
   "outputs": [],
   "source": [
    "# test-train first; change to take a dataframe\n",
    "# save those to to file\n",
    "# call FeatureGenerator on training data; call FeatureGenerator.train() --> saves sparse matrices in attribute\n",
    "# call FeatureGenerator on test data; call Feature Generator.transform(new_datafile)\n",
    "# f.x --> training sparse matrix\n",
    "# f.new_x --> testing sparse matrix"
   ]
  },
  {
   "cell_type": "code",
   "execution_count": 3,
   "metadata": {
    "collapsed": false
   },
   "outputs": [],
   "source": [
    "data_fp = '../data_cleaning/articles1.csv'\n",
    "data = pd.read_csv(data_fp)"
   ]
  },
  {
   "cell_type": "code",
   "execution_count": 4,
   "metadata": {
    "collapsed": false
   },
   "outputs": [],
   "source": [
    "data.drop('Unnamed: 0', axis=1, inplace=True)"
   ]
  },
  {
   "cell_type": "code",
   "execution_count": 5,
   "metadata": {
    "collapsed": false
   },
   "outputs": [],
   "source": [
    "data = data.sample(n=1000)"
   ]
  },
  {
   "cell_type": "code",
   "execution_count": 6,
   "metadata": {
    "collapsed": false
   },
   "outputs": [],
   "source": [
    "X, y = train_test_split(data)"
   ]
  },
  {
   "cell_type": "code",
   "execution_count": 7,
   "metadata": {
    "collapsed": false
   },
   "outputs": [],
   "source": [
    "X.to_csv('data/X_full.csv')"
   ]
  },
  {
   "cell_type": "code",
   "execution_count": 8,
   "metadata": {
    "collapsed": true
   },
   "outputs": [],
   "source": [
    "y.to_csv('data/y_full.csv')"
   ]
  },
  {
   "cell_type": "code",
   "execution_count": 9,
   "metadata": {
    "collapsed": false
   },
   "outputs": [],
   "source": [
    "config = {\n",
    "    'datafile': 'data/X_full.csv',\n",
    "    'test_datafile': 'data/y_full.csv',\n",
    "    'text_label': 'content',\n",
    "    'y_label': 'label',\n",
    "    'fts_to_try': ['TfidfVectorize'],\n",
    "}"
   ]
  },
  {
   "cell_type": "code",
   "execution_count": 10,
   "metadata": {
    "collapsed": true
   },
   "outputs": [],
   "source": [
    "args = {k: v for k, v in config.items() if k != 'test_datafile'}"
   ]
  },
  {
   "cell_type": "code",
   "execution_count": 11,
   "metadata": {
    "collapsed": false
   },
   "outputs": [
    {
     "name": "stdout",
     "output_type": "stream",
     "text": [
      "Creating feature:  TfidfVectorize\n",
      "Parameters:  {'ngram_range': (1, 2)}\n",
      "3000 features generated for 750 examples\n"
     ]
    }
   ],
   "source": [
    "gen = FeatureGenerator(**args)"
   ]
  },
  {
   "cell_type": "code",
   "execution_count": 12,
   "metadata": {
    "collapsed": false
   },
   "outputs": [
    {
     "name": "stdout",
     "output_type": "stream",
     "text": [
      "3000 features generated for 250 examples\n"
     ]
    }
   ],
   "source": [
    "gen.transform(config['test_datafile'])"
   ]
  },
  {
   "cell_type": "code",
   "execution_count": 13,
   "metadata": {
    "collapsed": true
   },
   "outputs": [],
   "source": [
    "models = ['NB', 'RF', 'ET', 'LR', 'SVM']\n",
    "iterations = 5\n",
    "output_dir = 'output/'\n",
    "ks = [0.05, 0.10]"
   ]
  },
  {
   "cell_type": "code",
   "execution_count": 14,
   "metadata": {
    "collapsed": false
   },
   "outputs": [],
   "source": [
    "loop = ModelLoop(gen.X_train, gen.X_test, gen.y_train, gen.y_test, models, iterations, output_dir,\n",
    "                 ks = ks, method='csc')"
   ]
  },
  {
   "cell_type": "code",
   "execution_count": 15,
   "metadata": {
    "collapsed": false
   },
   "outputs": [
    {
     "name": "stdout",
     "output_type": "stream",
     "text": [
      "Running NB.\n",
      "Running RF.\n",
      "Running ET.\n",
      "Running LR.\n",
      "Running SVM.\n"
     ]
    }
   ],
   "source": [
    "loop.run()"
   ]
  },
  {
   "cell_type": "code",
   "execution_count": 17,
   "metadata": {
    "collapsed": false
   },
   "outputs": [
    {
     "data": {
      "text/html": [
       "<div>\n",
       "<table border=\"1\" class=\"dataframe\">\n",
       "  <thead>\n",
       "    <tr style=\"text-align: right;\">\n",
       "      <th></th>\n",
       "      <th>model_id</th>\n",
       "      <th>model_type</th>\n",
       "      <th>iteration</th>\n",
       "      <th>auc</th>\n",
       "      <th>k</th>\n",
       "      <th>precision</th>\n",
       "      <th>recall</th>\n",
       "      <th>accuracy</th>\n",
       "      <th>params</th>\n",
       "    </tr>\n",
       "  </thead>\n",
       "  <tbody>\n",
       "    <tr>\n",
       "      <th>0</th>\n",
       "      <td>0-0</td>\n",
       "      <td>NB</td>\n",
       "      <td>0</td>\n",
       "      <td>0.782813</td>\n",
       "      <td>0.05</td>\n",
       "      <td>0.769231</td>\n",
       "      <td>0.111111</td>\n",
       "      <td>0.668</td>\n",
       "      <td>{}</td>\n",
       "    </tr>\n",
       "    <tr>\n",
       "      <th>1</th>\n",
       "      <td>0-0</td>\n",
       "      <td>NB</td>\n",
       "      <td>0</td>\n",
       "      <td>0.782813</td>\n",
       "      <td>0.10</td>\n",
       "      <td>0.769231</td>\n",
       "      <td>0.111111</td>\n",
       "      <td>0.668</td>\n",
       "      <td>{}</td>\n",
       "    </tr>\n",
       "    <tr>\n",
       "      <th>2</th>\n",
       "      <td>1-0</td>\n",
       "      <td>RF</td>\n",
       "      <td>0</td>\n",
       "      <td>0.938715</td>\n",
       "      <td>0.05</td>\n",
       "      <td>1.000000</td>\n",
       "      <td>0.144444</td>\n",
       "      <td>0.692</td>\n",
       "      <td>{'max_depth': 60, 'max_features': 'sqrt', 'min...</td>\n",
       "    </tr>\n",
       "    <tr>\n",
       "      <th>3</th>\n",
       "      <td>1-0</td>\n",
       "      <td>RF</td>\n",
       "      <td>0</td>\n",
       "      <td>0.938715</td>\n",
       "      <td>0.10</td>\n",
       "      <td>1.000000</td>\n",
       "      <td>0.144444</td>\n",
       "      <td>0.692</td>\n",
       "      <td>{'max_depth': 60, 'max_features': 'sqrt', 'min...</td>\n",
       "    </tr>\n",
       "    <tr>\n",
       "      <th>4</th>\n",
       "      <td>2-0</td>\n",
       "      <td>ET</td>\n",
       "      <td>0</td>\n",
       "      <td>0.950486</td>\n",
       "      <td>0.05</td>\n",
       "      <td>1.000000</td>\n",
       "      <td>0.144444</td>\n",
       "      <td>0.692</td>\n",
       "      <td>{'criterion': 'entropy', 'max_depth': 10, 'max...</td>\n",
       "    </tr>\n",
       "    <tr>\n",
       "      <th>5</th>\n",
       "      <td>2-0</td>\n",
       "      <td>ET</td>\n",
       "      <td>0</td>\n",
       "      <td>0.950486</td>\n",
       "      <td>0.10</td>\n",
       "      <td>1.000000</td>\n",
       "      <td>0.144444</td>\n",
       "      <td>0.692</td>\n",
       "      <td>{'criterion': 'entropy', 'max_depth': 10, 'max...</td>\n",
       "    </tr>\n",
       "    <tr>\n",
       "      <th>6</th>\n",
       "      <td>3-0</td>\n",
       "      <td>LR</td>\n",
       "      <td>0</td>\n",
       "      <td>0.500000</td>\n",
       "      <td>0.05</td>\n",
       "      <td>0.615385</td>\n",
       "      <td>0.088889</td>\n",
       "      <td>0.652</td>\n",
       "      <td>{'C': 0.1, 'penalty': 'l1', 'random_state': 1}</td>\n",
       "    </tr>\n",
       "    <tr>\n",
       "      <th>7</th>\n",
       "      <td>3-0</td>\n",
       "      <td>LR</td>\n",
       "      <td>0</td>\n",
       "      <td>0.500000</td>\n",
       "      <td>0.10</td>\n",
       "      <td>0.615385</td>\n",
       "      <td>0.088889</td>\n",
       "      <td>0.652</td>\n",
       "      <td>{'C': 0.1, 'penalty': 'l1', 'random_state': 1}</td>\n",
       "    </tr>\n",
       "    <tr>\n",
       "      <th>8</th>\n",
       "      <td>4-0</td>\n",
       "      <td>SVM</td>\n",
       "      <td>0</td>\n",
       "      <td>0.945208</td>\n",
       "      <td>0.05</td>\n",
       "      <td>1.000000</td>\n",
       "      <td>0.144444</td>\n",
       "      <td>0.692</td>\n",
       "      <td>{'C': 1, 'kernel': 'linear', 'random_state': 1}</td>\n",
       "    </tr>\n",
       "    <tr>\n",
       "      <th>9</th>\n",
       "      <td>4-0</td>\n",
       "      <td>SVM</td>\n",
       "      <td>0</td>\n",
       "      <td>0.945208</td>\n",
       "      <td>0.10</td>\n",
       "      <td>1.000000</td>\n",
       "      <td>0.144444</td>\n",
       "      <td>0.692</td>\n",
       "      <td>{'C': 1, 'kernel': 'linear', 'random_state': 1}</td>\n",
       "    </tr>\n",
       "  </tbody>\n",
       "</table>\n",
       "</div>"
      ],
      "text/plain": [
       "  model_id model_type  iteration       auc     k  precision    recall  \\\n",
       "0      0-0         NB          0  0.782813  0.05   0.769231  0.111111   \n",
       "1      0-0         NB          0  0.782813  0.10   0.769231  0.111111   \n",
       "2      1-0         RF          0  0.938715  0.05   1.000000  0.144444   \n",
       "3      1-0         RF          0  0.938715  0.10   1.000000  0.144444   \n",
       "4      2-0         ET          0  0.950486  0.05   1.000000  0.144444   \n",
       "5      2-0         ET          0  0.950486  0.10   1.000000  0.144444   \n",
       "6      3-0         LR          0  0.500000  0.05   0.615385  0.088889   \n",
       "7      3-0         LR          0  0.500000  0.10   0.615385  0.088889   \n",
       "8      4-0        SVM          0  0.945208  0.05   1.000000  0.144444   \n",
       "9      4-0        SVM          0  0.945208  0.10   1.000000  0.144444   \n",
       "\n",
       "   accuracy                                             params  \n",
       "0     0.668                                                 {}  \n",
       "1     0.668                                                 {}  \n",
       "2     0.692  {'max_depth': 60, 'max_features': 'sqrt', 'min...  \n",
       "3     0.692  {'max_depth': 60, 'max_features': 'sqrt', 'min...  \n",
       "4     0.692  {'criterion': 'entropy', 'max_depth': 10, 'max...  \n",
       "5     0.692  {'criterion': 'entropy', 'max_depth': 10, 'max...  \n",
       "6     0.652     {'C': 0.1, 'penalty': 'l1', 'random_state': 1}  \n",
       "7     0.652     {'C': 0.1, 'penalty': 'l1', 'random_state': 1}  \n",
       "8     0.692    {'C': 1, 'kernel': 'linear', 'random_state': 1}  \n",
       "9     0.692    {'C': 1, 'kernel': 'linear', 'random_state': 1}  "
      ]
     },
     "execution_count": 17,
     "metadata": {},
     "output_type": "execute_result"
    }
   ],
   "source": [
    "pd.read_csv('output/simple_report.csv', quotechar='\"', skipinitialspace = True)"
   ]
  },
  {
   "cell_type": "code",
   "execution_count": null,
   "metadata": {
    "collapsed": false
   },
   "outputs": [],
   "source": []
  },
  {
   "cell_type": "code",
   "execution_count": null,
   "metadata": {
    "collapsed": false
   },
   "outputs": [],
   "source": []
  },
  {
   "cell_type": "code",
   "execution_count": null,
   "metadata": {
    "collapsed": true
   },
   "outputs": [],
   "source": []
  }
 ],
 "metadata": {
  "kernelspec": {
   "display_name": "Environment (amlpp)",
   "language": "",
   "name": "amlpp"
  },
  "language_info": {
   "codemirror_mode": {
    "name": "ipython",
    "version": 3
   },
   "file_extension": ".py",
   "mimetype": "text/x-python",
   "name": "python",
   "nbconvert_exporter": "python",
   "pygments_lexer": "ipython3",
   "version": "3.6.0"
  }
 },
 "nbformat": 4,
 "nbformat_minor": 2
}
