{
 "cells": [
  {
   "cell_type": "code",
   "execution_count": 1,
   "metadata": {
    "collapsed": false
   },
   "outputs": [
    {
     "name": "stderr",
     "output_type": "stream",
     "text": [
      "/Users/aldengolab/miniconda3/envs/amlpp/lib/python3.6/site-packages/sklearn/cross_validation.py:44: DeprecationWarning: This module was deprecated in version 0.18 in favor of the model_selection module into which all the refactored classes and functions are moved. Also note that the interface of the new CV iterators are different from that of this module. This module will be removed in 0.20.\n",
      "  \"This module will be removed in 0.20.\", DeprecationWarning)\n",
      "/Users/aldengolab/miniconda3/envs/amlpp/lib/python3.6/site-packages/sklearn/grid_search.py:43: DeprecationWarning: This module was deprecated in version 0.18 in favor of the model_selection module into which all the refactored classes and functions are moved. This module will be removed in 0.20.\n",
      "  DeprecationWarning)\n"
     ]
    }
   ],
   "source": [
    "import numpy as np\n",
    "import pandas as pd\n",
    "from gen_features import FeatureGenerator\n",
    "from model_loop import ModelLoop\n",
    "from sklearn.model_selection import train_test_split"
   ]
  },
  {
   "cell_type": "code",
   "execution_count": 2,
   "metadata": {
    "collapsed": false
   },
   "outputs": [],
   "source": [
    "# test-train first; change to take a dataframe\n",
    "# save those to to file\n",
    "# call FeatureGenerator on training data; call FeatureGenerator.train() --> saves sparse matrices in attribute\n",
    "# call FeatureGenerator on test data; call Feature Generator.transform(new_datafile)\n",
    "# f.x --> training sparse matrix\n",
    "# f.new_x --> testing sparse matrix"
   ]
  },
  {
   "cell_type": "code",
   "execution_count": 3,
   "metadata": {
    "collapsed": false
   },
   "outputs": [],
   "source": [
    "data_fp = '../data_cleaning/articles1.csv'\n",
    "data = pd.read_csv(data_fp)"
   ]
  },
  {
   "cell_type": "code",
   "execution_count": 4,
   "metadata": {
    "collapsed": false
   },
   "outputs": [],
   "source": [
    "data.drop('Unnamed: 0', axis=1, inplace=True)"
   ]
  },
  {
   "cell_type": "code",
   "execution_count": 5,
   "metadata": {
    "collapsed": true
   },
   "outputs": [],
   "source": [
    "#data = data.sample(n=1000)"
   ]
  },
  {
   "cell_type": "code",
   "execution_count": 6,
   "metadata": {
    "collapsed": false
   },
   "outputs": [],
   "source": [
    "X, y = train_test_split(data)"
   ]
  },
  {
   "cell_type": "code",
   "execution_count": 7,
   "metadata": {
    "collapsed": false
   },
   "outputs": [],
   "source": [
    "X.to_csv('data/X_full.csv')"
   ]
  },
  {
   "cell_type": "code",
   "execution_count": 8,
   "metadata": {
    "collapsed": true
   },
   "outputs": [],
   "source": [
    "y.to_csv('data/y_full.csv')"
   ]
  },
  {
   "cell_type": "code",
   "execution_count": 9,
   "metadata": {
    "collapsed": false
   },
   "outputs": [],
   "source": [
    "config = {\n",
    "    'datafile': 'data/X_full.csv',\n",
    "    'test_datafile': 'data/y_full.csv',\n",
    "    'text_label': 'content',\n",
    "    'y_label': 'label',\n",
    "    'fts_to_try': ['TfidfVectorize'],\n",
    "}"
   ]
  },
  {
   "cell_type": "code",
   "execution_count": 10,
   "metadata": {
    "collapsed": true
   },
   "outputs": [],
   "source": [
    "args = {k: v for k, v in config.items() if k != 'test_datafile'}"
   ]
  },
  {
   "cell_type": "code",
   "execution_count": 11,
   "metadata": {
    "collapsed": false
   },
   "outputs": [
    {
     "name": "stdout",
     "output_type": "stream",
     "text": [
      "Creating feature:  TfidfVectorize\n",
      "Parameters:  {'ngram_range': (1, 2)}\n",
      "3000 features generated for 8654 examples\n"
     ]
    }
   ],
   "source": [
    "gen = FeatureGenerator(**args)"
   ]
  },
  {
   "cell_type": "code",
   "execution_count": 12,
   "metadata": {
    "collapsed": false
   },
   "outputs": [
    {
     "name": "stdout",
     "output_type": "stream",
     "text": [
      "3000 features generated for 2885 examples\n"
     ]
    }
   ],
   "source": [
    "gen.transform(config['test_datafile'])"
   ]
  },
  {
   "cell_type": "code",
   "execution_count": 13,
   "metadata": {
    "collapsed": true
   },
   "outputs": [],
   "source": [
    "run = 'test_2-22'\n",
    "models = ['NB', 'RF', 'ET', 'LR', 'SVM']\n",
    "iterations = 5\n",
    "output_dir = 'output_{}/'.format(run)\n",
    "ks = [0.05, 0.10]"
   ]
  },
  {
   "cell_type": "code",
   "execution_count": null,
   "metadata": {
    "collapsed": false
   },
   "outputs": [],
   "source": [
    "loop = ModelLoop(gen.X_train, gen.X_test, gen.y_train, gen.y_test, models, iterations, output_dir,\n",
    "                 ks = ks, method='csc', roc=True)"
   ]
  },
  {
   "cell_type": "code",
   "execution_count": null,
   "metadata": {
    "collapsed": false
   },
   "outputs": [
    {
     "name": "stdout",
     "output_type": "stream",
     "text": [
      "Running NB.\n",
      "    Running Iteration 1 of 5...\n",
      "    Printing to file...\n",
      "Running RF.\n",
      "    Running Iteration 1 of 5...\n",
      "    Printing to file...\n",
      "    Running Iteration 2 of 5...\n",
      "    Printing to file...\n",
      "    Running Iteration 3 of 5...\n",
      "    Printing to file...\n",
      "    Running Iteration 4 of 5...\n",
      "    Printing to file...\n",
      "    Running Iteration 5 of 5...\n",
      "    Printing to file...\n",
      "Running ET.\n",
      "    Running Iteration 1 of 5...\n",
      "    Printing to file...\n",
      "    Running Iteration 2 of 5...\n",
      "    Printing to file...\n",
      "    Running Iteration 3 of 5...\n",
      "    Printing to file...\n",
      "    Running Iteration 4 of 5...\n",
      "    Printing to file...\n",
      "    Running Iteration 5 of 5...\n",
      "    Printing to file...\n",
      "Running LR.\n",
      "    Running Iteration 1 of 5...\n",
      "    Printing to file...\n",
      "    Running Iteration 2 of 5...\n",
      "    Printing to file...\n",
      "    Running Iteration 3 of 5...\n",
      "    Printing to file...\n",
      "    Running Iteration 4 of 5...\n",
      "    Printing to file...\n",
      "    Running Iteration 5 of 5...\n",
      "    Printing to file...\n",
      "Running SVM.\n",
      "    Running Iteration 1 of 5...\n"
     ]
    }
   ],
   "source": [
    "loop.run()"
   ]
  },
  {
   "cell_type": "code",
   "execution_count": null,
   "metadata": {
    "collapsed": false
   },
   "outputs": [],
   "source": [
    "pd.read_csv(output_dir + 'simple_report.csv', quotechar='\"', skipinitialspace = True)"
   ]
  },
  {
   "cell_type": "code",
   "execution_count": null,
   "metadata": {
    "collapsed": false
   },
   "outputs": [],
   "source": []
  },
  {
   "cell_type": "code",
   "execution_count": null,
   "metadata": {
    "collapsed": false
   },
   "outputs": [],
   "source": []
  },
  {
   "cell_type": "code",
   "execution_count": null,
   "metadata": {
    "collapsed": true
   },
   "outputs": [],
   "source": []
  }
 ],
 "metadata": {
  "kernelspec": {
   "display_name": "Environment (amlpp)",
   "language": "",
   "name": "amlpp"
  },
  "language_info": {
   "codemirror_mode": {
    "name": "ipython",
    "version": 3
   },
   "file_extension": ".py",
   "mimetype": "text/x-python",
   "name": "python",
   "nbconvert_exporter": "python",
   "pygments_lexer": "ipython3",
   "version": "3.6.0"
  }
 },
 "nbformat": 4,
 "nbformat_minor": 2
}
